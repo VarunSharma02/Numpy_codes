{
  "nbformat": 4,
  "nbformat_minor": 0,
  "metadata": {
    "colab": {
      "provenance": [],
      "include_colab_link": true
    },
    "kernelspec": {
      "name": "python3",
      "display_name": "Python 3"
    },
    "language_info": {
      "name": "python"
    }
  },
  "cells": [
    {
      "cell_type": "markdown",
      "metadata": {
        "id": "view-in-github",
        "colab_type": "text"
      },
      "source": [
        "<a href=\"https://colab.research.google.com/github/VarunSharma02/Numpy_codes/blob/main/Introduction_to_NumPy.ipynb\" target=\"_parent\"><img src=\"https://colab.research.google.com/assets/colab-badge.svg\" alt=\"Open In Colab\"/></a>"
      ]
    },
    {
      "cell_type": "markdown",
      "source": [
        "#Introduction to NumPy"
      ],
      "metadata": {
        "id": "yoY9zaHtpTXP"
      }
    },
    {
      "cell_type": "markdown",
      "source": [
        "NumPy is an essential Python library. TensorFlow and scikit-learn use NumPy arrays as inputs, and pandas and Matplotlib are built on top of NumPy. In this Introduction to NumPy, you’ll become a master wrangler of NumPy’s core object: arrays! Using data from New York City’s tree census, you’ll create, sort, filter, and update arrays. You’ll discover why NumPy is so efficient and use broadcasting and vectorization to make your NumPy code even faster. By the end, you’ll be using 3D arrays to alter a Claude Monet painting, and you’ll understand why such array alterations are essential tools for machine learning."
      ],
      "metadata": {
        "id": "jrbdbWT2pWwR"
      }
    },
    {
      "cell_type": "markdown",
      "source": [
        "#Understanding NumPy Arrays\n",
        "Meet the incredible NumPy array! Learn how to create and change array shapes to suit your needs. Finally, discover NumPy’s many data types and how they contribute to speedy array operations."
      ],
      "metadata": {
        "id": "PJDVNeLTpozV"
      }
    },
    {
      "cell_type": "markdown",
      "source": [
        "#Introducing arrays\n",
        "Your first NumPy array\n",
        "Once you’re comfortable with NumPy, you’ll find yourself converting Python lists into NumPy arrays all the time for increased speed and access to NumPy’s excellent array methods.\n",
        "\n",
        "`sudoku_list` is a Python list containing a sudoku game:"
      ],
      "metadata": {
        "id": "pYJCBX1tp2cX"
      }
    },
    {
      "cell_type": "code",
      "source": [
        "sudoku_list = [[0, 0, 4, 3, 0, 0, 2, 0, 9],\n",
        "                [0, 0, 5, 0, 0, 9, 0, 0, 1],\n",
        "                [0, 7, 0, 0, 6, 0, 0, 4, 3],\n",
        "                [0, 0, 6, 0, 0, 2, 0, 8, 7],\n",
        "                [1, 9, 0, 0, 0, 7, 4, 0, 0],\n",
        "                [0, 5, 0, 0, 8, 3, 0, 0, 0],\n",
        "                [6, 0, 0, 0, 0, 0, 1, 0, 5],\n",
        "                [0, 0, 3, 5, 0, 8, 6, 9, 0],\n",
        "                [0, 4, 2, 9, 1, 0, 3, 0, 0]]"
      ],
      "metadata": {
        "id": "LMNyarmPp66R"
      },
      "execution_count": null,
      "outputs": []
    },
    {
      "cell_type": "markdown",
      "source": [
        "You’re going to change `sudoku_list` into a NumPy array so you can practice with it in later lessons, for example by creating a 4D array of sudoku games along with their solutions!\n",
        "\n",
        "*   Import NumPy using its generally accepted alias.\n",
        "*   Convert `sudoku_list` into a NumPy array called `sudoku_array`.\n",
        "*   Print the class `type()` of `sudoku_array` to check that your code has worked properly."
      ],
      "metadata": {
        "id": "irIRgHmgqJqu"
      }
    },
    {
      "cell_type": "code",
      "source": [
        "# Import NumPy\n",
        "import numpy as np\n",
        "\n",
        "# Convert sudoku_list into an array\n",
        "sudoku_array = np.array(sudoku_list)\n",
        "\n",
        "# Print the type of sudoku_array\n",
        "print(type(sudoku_array))\n",
        "print(\"Sudoku Array:\\n\", sudoku_array)"
      ],
      "metadata": {
        "id": "CWKk9yEQqZPL",
        "colab": {
          "base_uri": "https://localhost:8080/"
        },
        "outputId": "08ff625a-fd5d-4d97-9a42-699b2dfc0551"
      },
      "execution_count": null,
      "outputs": [
        {
          "output_type": "stream",
          "name": "stdout",
          "text": [
            "<class 'numpy.ndarray'>\n",
            "Sudoku Array:\n",
            " [[0 0 4 3 0 0 2 0 9]\n",
            " [0 0 5 0 0 9 0 0 1]\n",
            " [0 7 0 0 6 0 0 4 3]\n",
            " [0 0 6 0 0 2 0 8 7]\n",
            " [1 9 0 0 0 7 4 0 0]\n",
            " [0 5 0 0 8 3 0 0 0]\n",
            " [6 0 0 0 0 0 1 0 5]\n",
            " [0 0 3 5 0 8 6 9 0]\n",
            " [0 4 2 9 1 0 3 0 0]]\n"
          ]
        }
      ]
    },
    {
      "cell_type": "markdown",
      "source": [
        "##Creating arrays from scratch\n",
        "It can be helpful to know how to create quick NumPy arrays from scratch in order to test your code. For example, when you are doing math with large multi-dimensional arrays, it’s nice to check whether the math works as expected on small test arrays before applying your code to the larger arrays. NumPy has many options for creating smaller synthetic arrays.\n",
        "\n",
        "With this in mind, it’s time for you to create some arrays from scratch! `numpy` is imported for you as `np`.\n",
        "\n",
        "*   Create and print an array filled with zeros called `zero_array`, which has two rows and four columns.\n",
        "*   Create and print an array of random floats between `0` and `1` called `random_array`, which has three rows and six columns.\n",
        "\n",
        "\n"
      ],
      "metadata": {
        "id": "CGHDTPbgqkHq"
      }
    },
    {
      "cell_type": "code",
      "source": [
        "# Create an array of zeros which has four columns and two rows\n",
        "zero_array = np.zeros((2,4))\n",
        "print(zero_array)\n",
        "\n",
        "# Create an array of random floats which has six columns and three rows\n",
        "random_array = np.random.random((3,6))\n",
        "print(random_array)\n",
        "\n",
        "print(np.round(random_array,3))"
      ],
      "metadata": {
        "id": "bKiJOeahqjoz",
        "colab": {
          "base_uri": "https://localhost:8080/"
        },
        "outputId": "aea90ba6-f99d-4067-e8f8-fbf61f1172bb"
      },
      "execution_count": null,
      "outputs": [
        {
          "output_type": "stream",
          "name": "stdout",
          "text": [
            "[[0. 0. 0. 0.]\n",
            " [0. 0. 0. 0.]]\n",
            "[[0.44207779 0.62579682 0.50667409 0.63888982 0.03931264 0.6229853 ]\n",
            " [0.32466342 0.47760859 0.32876337 0.86498863 0.30356441 0.69162543]\n",
            " [0.34254138 0.97250784 0.78729274 0.2784495  0.05230306 0.79044599]]\n",
            "[[0.442 0.626 0.507 0.639 0.039 0.623]\n",
            " [0.325 0.478 0.329 0.865 0.304 0.692]\n",
            " [0.343 0.973 0.787 0.278 0.052 0.79 ]]\n"
          ]
        }
      ]
    },
    {
      "cell_type": "markdown",
      "source": [
        "##A range array\n",
        "`np.arange()` has especially useful applications in graphing. Your task is to create a scatter plot with the values from `doubling_array` on the y-axis."
      ],
      "metadata": {
        "id": "sML6KlLrrZyz"
      }
    },
    {
      "cell_type": "code",
      "source": [
        "doubling_array = [1, 2, 4, 8, 16, 32, 64, 128, 256, 512]"
      ],
      "metadata": {
        "id": "uQvWnJXXrrFk"
      },
      "execution_count": null,
      "outputs": []
    },
    {
      "cell_type": "markdown",
      "source": [
        "Recall that a scatter plot can be created using the following code:\n",
        "\n",
        "\n",
        "```\n",
        "plt.scatter(x_values, y_values)\n",
        "plt.show()\n",
        "```\n",
        "\n",
        "\n",
        "With `doubling_array` on the y-axis, you now need values for the x-axis, which you can create with `np.arange()`!\n",
        "\n",
        "`numpy` is loaded for you as `np`, and `matplotlib.pyplot` is imported as `plt`."
      ],
      "metadata": {
        "id": "UfAJl4a8rtX9"
      }
    },
    {
      "cell_type": "code",
      "source": [
        "import numpy as np\n",
        "from matplotlib import pyplot as plt"
      ],
      "metadata": {
        "id": "gAxKIO4hrxBX"
      },
      "execution_count": null,
      "outputs": []
    },
    {
      "cell_type": "markdown",
      "source": [
        "*   Using `np.arange()`, create a 1D array called `one_to_ten` which holds all integers from one to ten (inclusive).\n",
        "*   Create a scatterplot with `doubling_array` as the y values and `one_to_ten` as the x values."
      ],
      "metadata": {
        "id": "Oc-69sVNsR6n"
      }
    },
    {
      "cell_type": "code",
      "source": [
        "# Create an array of integers from one to ten\n",
        "one_to_ten = np.arange(1,11)\n",
        "print(one_to_ten)\n",
        "print(doubling_array)\n",
        "\n",
        "# Create your scatterplot\n",
        "plt.scatter(one_to_ten, doubling_array)\n",
        "plt.show()"
      ],
      "metadata": {
        "id": "AUBxc8lDs2sE",
        "colab": {
          "base_uri": "https://localhost:8080/",
          "height": 465
        },
        "outputId": "c4d008a3-e5e3-440b-a8ab-1da2cfe8e18e"
      },
      "execution_count": null,
      "outputs": [
        {
          "output_type": "stream",
          "name": "stdout",
          "text": [
            "[ 1  2  3  4  5  6  7  8  9 10]\n",
            "[1, 2, 4, 8, 16, 32, 64, 128, 256, 512]\n"
          ]
        },
        {
          "output_type": "display_data",
          "data": {
            "text/plain": [
              "<Figure size 640x480 with 1 Axes>"
            ],
            "image/png": "[encoded data removed]"
          },
          "metadata": {}
        }
      ]
    },
    {
      "cell_type": "markdown",
      "source": [
        "#Array dimensionality\n",
        "##3D array creation\n",
        "In the first section, you created a `sudoku_game` two-dimensional NumPy array. Perhaps you have hundreds of sudoku game arrays, and you’d like to save the solution for this one, `sudoku_solution`, as part of the same array as its corresponding game in order to organize your sudoku data better. You could accomplish this by stacking the two 2D arrays on top of each other to create a 3D array.\n",
        "\n",
        "`numpy` is loaded as `np`, and the `sudoku_game` and `sudoku_solution` arrays are available.\n",
        "\n",
        "* Create a 3D array called `game_and_solution` by stacking the two 2D arrays, `sudoku_game` and `sudoku_solution`, on top of one another; in the final array, `sudoku_game` should appear before `sudoku_solution`.\n",
        "* Print `game_and_solution`."
      ],
      "metadata": {
        "id": "vbb5cwvWs6XR"
      }
    },
    {
      "cell_type": "code",
      "source": [
        "sudoku_solution = np.array([[8, 6, 4, 3, 7, 1, 2, 5, 9],\n",
        "                            [3, 2, 5, 8, 4, 9, 7, 6, 1],\n",
        "                            [9, 7, 1, 2, 6, 5, 8, 4, 3],\n",
        "                            [4, 3, 6, 1, 9, 2, 5, 8, 7],\n",
        "                            [1, 9, 8, 6, 5, 7, 4, 3, 2],\n",
        "                            [2, 5, 7, 4, 8, 3, 9, 1, 6],\n",
        "                            [6, 8, 9, 7, 3, 4, 1, 2, 5],\n",
        "                            [7, 1, 3, 5, 2, 8, 6, 9, 4],\n",
        "                            [5, 4, 2, 9, 1, 6, 3, 7, 8]])\n",
        "sudoku_game = np.array(sudoku_list)\n",
        "print(\"suduko_game:\\n\",sudoku_game)\n",
        "print(\"suduko_solution:\\n\",sudoku_solution)"
      ],
      "metadata": {
        "colab": {
          "base_uri": "https://localhost:8080/"
        },
        "id": "qW0AzIIht8p3",
        "outputId": "bec89982-4c21-409d-ba1b-9bba52ce3ab1"
      },
      "execution_count": null,
      "outputs": [
        {
          "output_type": "stream",
          "name": "stdout",
          "text": [
            "suduko_game:\n",
            " [[0 0 4 3 0 0 2 0 9]\n",
            " [0 0 5 0 0 9 0 0 1]\n",
            " [0 7 0 0 6 0 0 4 3]\n",
            " [0 0 6 0 0 2 0 8 7]\n",
            " [1 9 0 0 0 7 4 0 0]\n",
            " [0 5 0 0 8 3 0 0 0]\n",
            " [6 0 0 0 0 0 1 0 5]\n",
            " [0 0 3 5 0 8 6 9 0]\n",
            " [0 4 2 9 1 0 3 0 0]]\n",
            "suduko_solution:\n",
            " [[8 6 4 3 7 1 2 5 9]\n",
            " [3 2 5 8 4 9 7 6 1]\n",
            " [9 7 1 2 6 5 8 4 3]\n",
            " [4 3 6 1 9 2 5 8 7]\n",
            " [1 9 8 6 5 7 4 3 2]\n",
            " [2 5 7 4 8 3 9 1 6]\n",
            " [6 8 9 7 3 4 1 2 5]\n",
            " [7 1 3 5 2 8 6 9 4]\n",
            " [5 4 2 9 1 6 3 7 8]]\n"
          ]
        }
      ]
    },
    {
      "cell_type": "code",
      "source": [
        "# Create the game_and_solution 3D array\n",
        "game_and_solution = np.array([sudoku_game, sudoku_solution])\n",
        "\n",
        "# Print game_and_solution\n",
        "print(game_and_solution)"
      ],
      "metadata": {
        "id": "VKBOM5Tis53v",
        "colab": {
          "base_uri": "https://localhost:8080/"
        },
        "outputId": "18b36e4f-9754-4f4b-8c11-3f06e3a03378"
      },
      "execution_count": null,
      "outputs": [
        {
          "output_type": "stream",
          "name": "stdout",
          "text": [
            "[[[0 0 4 3 0 0 2 0 9]\n",
            "  [0 0 5 0 0 9 0 0 1]\n",
            "  [0 7 0 0 6 0 0 4 3]\n",
            "  [0 0 6 0 0 2 0 8 7]\n",
            "  [1 9 0 0 0 7 4 0 0]\n",
            "  [0 5 0 0 8 3 0 0 0]\n",
            "  [6 0 0 0 0 0 1 0 5]\n",
            "  [0 0 3 5 0 8 6 9 0]\n",
            "  [0 4 2 9 1 0 3 0 0]]\n",
            "\n",
            " [[8 6 4 3 7 1 2 5 9]\n",
            "  [3 2 5 8 4 9 7 6 1]\n",
            "  [9 7 1 2 6 5 8 4 3]\n",
            "  [4 3 6 1 9 2 5 8 7]\n",
            "  [1 9 8 6 5 7 4 3 2]\n",
            "  [2 5 7 4 8 3 9 1 6]\n",
            "  [6 8 9 7 3 4 1 2 5]\n",
            "  [7 1 3 5 2 8 6 9 4]\n",
            "  [5 4 2 9 1 6 3 7 8]]]\n"
          ]
        }
      ]
    },
    {
      "cell_type": "markdown",
      "source": [
        "##The fourth dimension\n",
        "Printing arrays is a good way to check code output for small arrays like `sudoku_game_and_solution`, but it becomes unwieldy when dealing with bigger arrays and those with higher dimensions. Another important check is to look at the array’s `.shape`.\n",
        "\n",
        "Now, you’ll create a 4D array that contains two sudoku games and their solutions. `numpy` is loaded as `np`. The `game_and_solution` 3D array you created in the previous example is available, along with `new_sudoku_game` and `new_sudoku_solution`.\n",
        "\n",
        "* Create another 3D array called `new_game_and_solution` with a different 2D game and 2D solution pair: `new_sudoku_game` and `new_sudoku_solution`. `new_sudoku_game` should appear before `new_sudoku_solution`.\n",
        "* Create a 4D array called `games_and_solutions` by making an array out of the two 3D arrays: `game_and_solution` and `new_game_and_solution`, in that order.\n",
        "* Print the shape of `games_and_solutions`."
      ],
      "metadata": {
        "id": "4u3-h3Dxu330"
      }
    },
    {
      "cell_type": "code",
      "source": [
        "new_sudoku_game = np.array([[0, 0, 4, 3, 0, 0, 0, 0, 0],\n",
        "                            [8, 9, 0, 2, 0, 0, 6, 7, 0],\n",
        "                            [7, 0, 0, 9, 0, 0, 0, 5, 0],\n",
        "                            [5, 0, 0, 0, 0, 8, 1, 4, 0],\n",
        "                            [0, 7, 0, 0, 3, 2, 0, 6, 0],\n",
        "                            [6, 0, 0, 0, 0, 1, 3, 0, 8],\n",
        "                            [0, 0, 1, 7, 5, 0, 9, 0, 0],\n",
        "                            [0, 0, 5, 0, 4, 0, 0, 1, 2],\n",
        "                            [9, 8, 0, 0, 0, 6, 0, 0, 5]])\n",
        "print(new_sudoku_game)"
      ],
      "metadata": {
        "colab": {
          "base_uri": "https://localhost:8080/"
        },
        "id": "BwSql-_sw6YQ",
        "outputId": "60ea483e-853b-4ec2-835b-954fb0675166"
      },
      "execution_count": null,
      "outputs": [
        {
          "output_type": "stream",
          "name": "stdout",
          "text": [
            "[[0 0 4 3 0 0 0 0 0]\n",
            " [8 9 0 2 0 0 6 7 0]\n",
            " [7 0 0 9 0 0 0 5 0]\n",
            " [5 0 0 0 0 8 1 4 0]\n",
            " [0 7 0 0 3 2 0 6 0]\n",
            " [6 0 0 0 0 1 3 0 8]\n",
            " [0 0 1 7 5 0 9 0 0]\n",
            " [0 0 5 0 4 0 0 1 2]\n",
            " [9 8 0 0 0 6 0 0 5]]\n"
          ]
        }
      ]
    },
    {
      "cell_type": "code",
      "source": [
        "new_sudoku_solution = np.array([[2, 5, 4, 3, 6, 7, 8, 9, 1],\n",
        "                                [8, 9, 3, 2, 1, 5, 6, 7, 4],\n",
        "                                [7, 1, 6, 9, 8, 4, 2, 5, 3],\n",
        "                                [5, 3, 2, 6, 9, 8, 1, 4, 7],\n",
        "                                [1, 7, 8, 4, 3, 2, 5, 6, 9],\n",
        "                                [6, 4, 9, 5, 7, 1, 3, 2, 8],\n",
        "                                [4, 2, 1, 7, 5, 3, 9, 8, 6],\n",
        "                                [3, 6, 5, 8, 4, 9, 7, 1, 2],\n",
        "                                [9, 8, 7, 1, 2, 6, 4, 3, 5]])\n",
        "print(new_sudoku_solution)"
      ],
      "metadata": {
        "colab": {
          "base_uri": "https://localhost:8080/"
        },
        "id": "WGqAG2bDvXQs",
        "outputId": "1af3f8da-7669-40c6-b416-fd1b081cb051"
      },
      "execution_count": null,
      "outputs": [
        {
          "output_type": "stream",
          "name": "stdout",
          "text": [
            "[[2 5 4 3 6 7 8 9 1]\n",
            " [8 9 3 2 1 5 6 7 4]\n",
            " [7 1 6 9 8 4 2 5 3]\n",
            " [5 3 2 6 9 8 1 4 7]\n",
            " [1 7 8 4 3 2 5 6 9]\n",
            " [6 4 9 5 7 1 3 2 8]\n",
            " [4 2 1 7 5 3 9 8 6]\n",
            " [3 6 5 8 4 9 7 1 2]\n",
            " [9 8 7 1 2 6 4 3 5]]\n"
          ]
        }
      ]
    },
    {
      "cell_type": "markdown",
      "source": [
        "Create another 3D array called `new_game_and_solution` with a different 2D game and 2D solution pair: `new_sudoku_game` and `new_sudoku_solution`. `new_sudoku_game` should appear before `new_sudoku_solution`"
      ],
      "metadata": {
        "id": "chIjSH0MxLSe"
      }
    },
    {
      "cell_type": "code",
      "source": [
        "# Create a second 3D array of another game and its solution\n",
        "new_game_and_solution = np.array([new_sudoku_game, new_sudoku_solution])\n",
        "print(new_game_and_solution)"
      ],
      "metadata": {
        "id": "Pxe9WE3swfdk",
        "colab": {
          "base_uri": "https://localhost:8080/"
        },
        "outputId": "cb75a0cc-988b-413a-84c0-81439ee2e01e"
      },
      "execution_count": null,
      "outputs": [
        {
          "output_type": "stream",
          "name": "stdout",
          "text": [
            "[[[0 0 4 3 0 0 0 0 0]\n",
            "  [8 9 0 2 0 0 6 7 0]\n",
            "  [7 0 0 9 0 0 0 5 0]\n",
            "  [5 0 0 0 0 8 1 4 0]\n",
            "  [0 7 0 0 3 2 0 6 0]\n",
            "  [6 0 0 0 0 1 3 0 8]\n",
            "  [0 0 1 7 5 0 9 0 0]\n",
            "  [0 0 5 0 4 0 0 1 2]\n",
            "  [9 8 0 0 0 6 0 0 5]]\n",
            "\n",
            " [[2 5 4 3 6 7 8 9 1]\n",
            "  [8 9 3 2 1 5 6 7 4]\n",
            "  [7 1 6 9 8 4 2 5 3]\n",
            "  [5 3 2 6 9 8 1 4 7]\n",
            "  [1 7 8 4 3 2 5 6 9]\n",
            "  [6 4 9 5 7 1 3 2 8]\n",
            "  [4 2 1 7 5 3 9 8 6]\n",
            "  [3 6 5 8 4 9 7 1 2]\n",
            "  [9 8 7 1 2 6 4 3 5]]]\n"
          ]
        }
      ]
    },
    {
      "cell_type": "markdown",
      "source": [
        "Create a 4D array called `games_and_solutions` by making an array out of the two 3D arrays: `game_and_solution` and `new_game_and_solution`, in that order."
      ],
      "metadata": {
        "id": "aaCLI8-uxUF8"
      }
    },
    {
      "cell_type": "code",
      "source": [
        "# Create a 4D array of both game and solution 3D arrays\n",
        "games_and_solutions = np.array([game_and_solution, new_game_and_solution])"
      ],
      "metadata": {
        "id": "PdHVQGk0xnZY"
      },
      "execution_count": null,
      "outputs": []
    },
    {
      "cell_type": "markdown",
      "source": [
        "Print the shape of `games_and_solutions`."
      ],
      "metadata": {
        "id": "vUEbdUm2xjB1"
      }
    },
    {
      "cell_type": "code",
      "source": [
        "# Print the shape of your 4D array\n",
        "games_and_solutions"
      ],
      "metadata": {
        "id": "Tacg_U4sxhZm",
        "colab": {
          "base_uri": "https://localhost:8080/"
        },
        "outputId": "dd1ae910-b3ba-4428-846a-94d4f252dc42"
      },
      "execution_count": null,
      "outputs": [
        {
          "output_type": "execute_result",
          "data": {
            "text/plain": [
              "array([[[[0, 0, 4, 3, 0, 0, 2, 0, 9],\n",
              "         [0, 0, 5, 0, 0, 9, 0, 0, 1],\n",
              "         [0, 7, 0, 0, 6, 0, 0, 4, 3],\n",
              "         [0, 0, 6, 0, 0, 2, 0, 8, 7],\n",
              "         [1, 9, 0, 0, 0, 7, 4, 0, 0],\n",
              "         [0, 5, 0, 0, 8, 3, 0, 0, 0],\n",
              "         [6, 0, 0, 0, 0, 0, 1, 0, 5],\n",
              "         [0, 0, 3, 5, 0, 8, 6, 9, 0],\n",
              "         [0, 4, 2, 9, 1, 0, 3, 0, 0]],\n",
              "\n",
              "        [[8, 6, 4, 3, 7, 1, 2, 5, 9],\n",
              "         [3, 2, 5, 8, 4, 9, 7, 6, 1],\n",
              "         [9, 7, 1, 2, 6, 5, 8, 4, 3],\n",
              "         [4, 3, 6, 1, 9, 2, 5, 8, 7],\n",
              "         [1, 9, 8, 6, 5, 7, 4, 3, 2],\n",
              "         [2, 5, 7, 4, 8, 3, 9, 1, 6],\n",
              "         [6, 8, 9, 7, 3, 4, 1, 2, 5],\n",
              "         [7, 1, 3, 5, 2, 8, 6, 9, 4],\n",
              "         [5, 4, 2, 9, 1, 6, 3, 7, 8]]],\n",
              "\n",
              "\n",
              "       [[[0, 0, 4, 3, 0, 0, 0, 0, 0],\n",
              "         [8, 9, 0, 2, 0, 0, 6, 7, 0],\n",
              "         [7, 0, 0, 9, 0, 0, 0, 5, 0],\n",
              "         [5, 0, 0, 0, 0, 8, 1, 4, 0],\n",
              "         [0, 7, 0, 0, 3, 2, 0, 6, 0],\n",
              "         [6, 0, 0, 0, 0, 1, 3, 0, 8],\n",
              "         [0, 0, 1, 7, 5, 0, 9, 0, 0],\n",
              "         [0, 0, 5, 0, 4, 0, 0, 1, 2],\n",
              "         [9, 8, 0, 0, 0, 6, 0, 0, 5]],\n",
              "\n",
              "        [[2, 5, 4, 3, 6, 7, 8, 9, 1],\n",
              "         [8, 9, 3, 2, 1, 5, 6, 7, 4],\n",
              "         [7, 1, 6, 9, 8, 4, 2, 5, 3],\n",
              "         [5, 3, 2, 6, 9, 8, 1, 4, 7],\n",
              "         [1, 7, 8, 4, 3, 2, 5, 6, 9],\n",
              "         [6, 4, 9, 5, 7, 1, 3, 2, 8],\n",
              "         [4, 2, 1, 7, 5, 3, 9, 8, 6],\n",
              "         [3, 6, 5, 8, 4, 9, 7, 1, 2],\n",
              "         [9, 8, 7, 1, 2, 6, 4, 3, 5]]]])"
            ]
          },
          "metadata": {},
          "execution_count": 45
        }
      ]
    },
    {
      "cell_type": "markdown",
      "source": [
        "##Flattening and reshaping\n",
        "You’ve learned to change not only array shape but also the number of dimensions that an array has. To test these skills, you’ll change `sudoku_game` from a 2D array to a 1D array and back again. Can we trust NumPy to keep the array elements in the same order after being flattened and reshaped? Time to find out."
      ],
      "metadata": {
        "id": "vGE6XUc6xt0D"
      }
    },
    {
      "cell_type": "markdown",
      "source": [
        "Flatten `sudoku_game` so that it is a 1D array, and save it as `flattened_game`."
      ],
      "metadata": {
        "id": "hjopRVobx-7J"
      }
    },
    {
      "cell_type": "code",
      "source": [
        "# Flatten sudoku_game\n",
        "print(sudoku_game)\n",
        "print(sudoku_game.flatten())\n",
        "flattened_game = sudoku_game.flatten()"
      ],
      "metadata": {
        "id": "J4HbgLIhxtbp",
        "colab": {
          "base_uri": "https://localhost:8080/"
        },
        "outputId": "4576ee53-8c86-47b0-f69d-b6369fe8213d"
      },
      "execution_count": null,
      "outputs": [
        {
          "output_type": "stream",
          "name": "stdout",
          "text": [
            "[[0 0 4 3 0 0 2 0 9]\n",
            " [0 0 5 0 0 9 0 0 1]\n",
            " [0 7 0 0 6 0 0 4 3]\n",
            " [0 0 6 0 0 2 0 8 7]\n",
            " [1 9 0 0 0 7 4 0 0]\n",
            " [0 5 0 0 8 3 0 0 0]\n",
            " [6 0 0 0 0 0 1 0 5]\n",
            " [0 0 3 5 0 8 6 9 0]\n",
            " [0 4 2 9 1 0 3 0 0]]\n",
            "[0 0 4 3 0 0 2 0 9 0 0 5 0 0 9 0 0 1 0 7 0 0 6 0 0 4 3 0 0 6 0 0 2 0 8 7 1\n",
            " 9 0 0 0 7 4 0 0 0 5 0 0 8 3 0 0 0 6 0 0 0 0 0 1 0 5 0 0 3 5 0 8 6 9 0 0 4\n",
            " 2 9 1 0 3 0 0]\n"
          ]
        }
      ]
    },
    {
      "cell_type": "markdown",
      "source": [
        "Print the `.shape` of `flattened_game`."
      ],
      "metadata": {
        "id": "KwCY0SCVyUF_"
      }
    },
    {
      "cell_type": "code",
      "source": [
        "# Print the shape of flattened_game\n",
        "print(flattened_game.shape)"
      ],
      "metadata": {
        "id": "k0lkuSUYyVVh",
        "colab": {
          "base_uri": "https://localhost:8080/"
        },
        "outputId": "af06a115-bf39-444c-bfe8-5ff6dd53af3c"
      },
      "execution_count": null,
      "outputs": [
        {
          "output_type": "stream",
          "name": "stdout",
          "text": [
            "(81,)\n"
          ]
        }
      ]
    },
    {
      "cell_type": "markdown",
      "source": [
        "Reshape the `flattened_game` back to its original shape of nine rows and nine columns; save the new array as `reshaped_game`."
      ],
      "metadata": {
        "id": "NG4Je-jVyDB0"
      }
    },
    {
      "cell_type": "code",
      "source": [
        "# Reshape flattened_game back to a nine by nine array\n",
        "reshaped_game = flattened_game.reshape(9,9)\n",
        "\n",
        "# Print sudoku_game and reshaped_game\n",
        "print(sudoku_game)\n",
        "print(reshaped_game)"
      ],
      "metadata": {
        "id": "219UNYuwyMMF",
        "colab": {
          "base_uri": "https://localhost:8080/"
        },
        "outputId": "aa0cfd61-4c83-46ae-ec12-182b32688783"
      },
      "execution_count": null,
      "outputs": [
        {
          "output_type": "stream",
          "name": "stdout",
          "text": [
            "[[0 0 4 3 0 0 2 0 9]\n",
            " [0 0 5 0 0 9 0 0 1]\n",
            " [0 7 0 0 6 0 0 4 3]\n",
            " [0 0 6 0 0 2 0 8 7]\n",
            " [1 9 0 0 0 7 4 0 0]\n",
            " [0 5 0 0 8 3 0 0 0]\n",
            " [6 0 0 0 0 0 1 0 5]\n",
            " [0 0 3 5 0 8 6 9 0]\n",
            " [0 4 2 9 1 0 3 0 0]]\n",
            "[[0 0 4 3 0 0 2 0 9]\n",
            " [0 0 5 0 0 9 0 0 1]\n",
            " [0 7 0 0 6 0 0 4 3]\n",
            " [0 0 6 0 0 2 0 8 7]\n",
            " [1 9 0 0 0 7 4 0 0]\n",
            " [0 5 0 0 8 3 0 0 0]\n",
            " [6 0 0 0 0 0 1 0 5]\n",
            " [0 0 3 5 0 8 6 9 0]\n",
            " [0 4 2 9 1 0 3 0 0]]\n"
          ]
        }
      ]
    },
    {
      "cell_type": "markdown",
      "source": [
        "##NumPy data types\n",
        "The dtype argument\n",
        "One way to control the data type of a NumPy array is to declare it when the array is created using the `dtype` keyword argument. Take a look at the data type NumPy uses by default when creating an array with `np.zeros()`. Could it be updated?"
      ],
      "metadata": {
        "id": "JVsBgT8fy34u"
      }
    },
    {
      "cell_type": "markdown",
      "source": [
        "Using `np.zeros()`, create an array of zeros that has three rows and two columns; call it `zero_array`.\n",
        "\n",
        "Print the data type of `zero_array`.\n",
        "\n",
        "\n",
        "Create a new array of zeros called `zero_int_array`, which will also have three rows and two columns, but the data type should be `np.int32`.\n",
        "\n",
        "Print the data type of `zero_int_array`."
      ],
      "metadata": {
        "id": "wcupkMxlzJjc"
      }
    },
    {
      "cell_type": "code",
      "source": [
        "# Create an array of zeros with three rows and two columns\n",
        "zero_array = np.zeros((3,2))\n",
        "\n",
        "# Print the data type of zero_array\n",
        "print(zero_array.dtype)\n",
        "\n",
        "# Create a new array of int32 zeros with three rows and two columns\n",
        "zero_int_array = np.zeros((3,2), dtype = \"int32\")\n",
        "\n",
        "# Print the data type of zero_int_array\n",
        "print(zero_int_array.dtype)"
      ],
      "metadata": {
        "id": "GVH4vXmAy3hz",
        "colab": {
          "base_uri": "https://localhost:8080/"
        },
        "outputId": "2fcd8321-f645-4cd7-c120-86eb728704fc"
      },
      "execution_count": null,
      "outputs": [
        {
          "output_type": "stream",
          "name": "stdout",
          "text": [
            "float64\n",
            "int32\n"
          ]
        }
      ]
    },
    {
      "cell_type": "markdown",
      "source": [
        "###Anticipating data types\n",
        "Anticipating what data type an array will have is very important since some NumPy functionality only works with certain data types. Let’s see what you’ve got.\n",
        "\n",
        "* For each of the given code snippets, determine which data type the resulting array will have by dragging the snippet to the proper box.\n",
        "\n",
        "A string data type\n",
        "```\n",
        "np.array([78.988, \"NumPy\", True])\n",
        "np.array([9, 1.12, True]).astype(\"<U5\")\n",
        "```\n",
        "An integer data type\n",
        "```\n",
        "np.array([34.62, 70.13, 9]).astype(np.int64)\n",
        "np.array([45.67, True], dtype=np.int8)\n",
        "```\n",
        "A float data type\n",
        "```\n",
        "np.array([[6, 15.7], [True, False]])\n",
        "np.random.random((4, 5))\n",
        "```"
      ],
      "metadata": {
        "id": "8Zbg8L1UzoqJ"
      }
    },
    {
      "cell_type": "code",
      "source": [
        "np.array([[6, 15.7], [True, False]], dtype=\"int\")\n"
      ],
      "metadata": {
        "colab": {
          "base_uri": "https://localhost:8080/"
        },
        "id": "W2v9CHlK97ek",
        "outputId": "4e6b0f3e-400f-404d-c26b-ff412b3814f3"
      },
      "execution_count": null,
      "outputs": [
        {
          "output_type": "execute_result",
          "data": {
            "text/plain": [
              "array([[ 6, 15],\n",
              "       [ 1,  0]])"
            ]
          },
          "metadata": {},
          "execution_count": 50
        }
      ]
    },
    {
      "cell_type": "code",
      "source": [
        "np.array([[6, 15.7], [True, False]]).astype(\"int\")"
      ],
      "metadata": {
        "colab": {
          "base_uri": "https://localhost:8080/"
        },
        "id": "ZGaYDebM-Y5_",
        "outputId": "93de83d7-6e69-4b73-90e1-c3ef23baf05c"
      },
      "execution_count": null,
      "outputs": [
        {
          "output_type": "execute_result",
          "data": {
            "text/plain": [
              "array([[ 6, 15],\n",
              "       [ 1,  0]])"
            ]
          },
          "metadata": {},
          "execution_count": 51
        }
      ]
    },
    {
      "cell_type": "code",
      "source": [
        "np.array([9, 1.12, True]).astype(\"<U5\")"
      ],
      "metadata": {
        "colab": {
          "base_uri": "https://localhost:8080/"
        },
        "id": "jiVQnPQ99XU1",
        "outputId": "e9a061e6-6b3b-4287-8eb7-5607bb9d13f4"
      },
      "execution_count": null,
      "outputs": [
        {
          "output_type": "execute_result",
          "data": {
            "text/plain": [
              "array(['9.0', '1.12', '1.0'], dtype='<U5')"
            ]
          },
          "metadata": {},
          "execution_count": 52
        }
      ]
    },
    {
      "cell_type": "markdown",
      "source": [
        "###A smaller sudoku game\n",
        "NumPy data types, which emphasize speed, are more specific than Python data types, which emphasize flexibility. When working with large amounts of data in NumPy, it’s good practice to check the data type and consider whether a smaller data type is large enough for your data, since smaller data types use less memory.\n",
        "\n",
        "It’s time to make your sudoku game more memory-efficient using your knowledge of data types! `sudoku_game` has been loaded for you as a NumPy array. numpy is imported as np.\n",
        "\n",
        "* Print the data type of the elements in `sudoku_game`."
      ],
      "metadata": {
        "id": "mxGQemnl0VQq"
      }
    },
    {
      "cell_type": "code",
      "source": [
        "# Print the data type of sudoku_game\n",
        "print(type(sudoku_game))\n",
        "print(sudoku_game.dtype)"
      ],
      "metadata": {
        "id": "I0wdtGBG0pL7",
        "colab": {
          "base_uri": "https://localhost:8080/"
        },
        "outputId": "3af6c268-e383-4090-af11-3c483792f403"
      },
      "execution_count": null,
      "outputs": [
        {
          "output_type": "stream",
          "name": "stdout",
          "text": [
            "<class 'numpy.ndarray'>\n",
            "int64\n"
          ]
        }
      ]
    },
    {
      "cell_type": "markdown",
      "source": [
        "The current data type of `sudoku_game` is `int64`.\n",
        "* Which of the following NumPy integers is the smallest bitsize that is still large enough to hold the data in `sudoku_game`?\n",
        "* If you have never played sudoku, know that sudoku games only ever store integers from one to nine.\n",
        "** np.int64\n",
        "** np.int32\n",
        "** np.int16\n",
        "** np.int8"
      ],
      "metadata": {
        "id": "AH_bplZn0pob"
      }
    },
    {
      "cell_type": "markdown",
      "source": [
        "Change the data type of `sudoku_game` to be `int8`, an 8-bit integer; name the new array `small_sudoku_game`.\n",
        "\n"
      ],
      "metadata": {
        "id": "laClVcMq1b8p"
      }
    },
    {
      "cell_type": "code",
      "source": [
        "small_sudoku_game = sudoku_game.astype(np.int8)\n",
        "print(small_sudoku_game.dtype)"
      ],
      "metadata": {
        "id": "H5xnK6cd1anH",
        "colab": {
          "base_uri": "https://localhost:8080/"
        },
        "outputId": "c207b197-44bc-47b0-c848-be3e70e40832"
      },
      "execution_count": null,
      "outputs": [
        {
          "output_type": "stream",
          "name": "stdout",
          "text": [
            "int8\n"
          ]
        }
      ]
    },
    {
      "cell_type": "markdown",
      "source": [
        "Print the data type of `small_sudoku_game` to be sure that your change to `int8` is reflected."
      ],
      "metadata": {
        "id": "TKGcd5iJ1gDa"
      }
    },
    {
      "cell_type": "code",
      "source": [
        "print(small_sudoku_game.dtype)"
      ],
      "metadata": {
        "id": "3SsRp_iT1m4U",
        "colab": {
          "base_uri": "https://localhost:8080/"
        },
        "outputId": "6ebaef04-e011-44e5-d15d-9d724e39613a"
      },
      "execution_count": null,
      "outputs": [
        {
          "output_type": "stream",
          "name": "stdout",
          "text": [
            "int8\n"
          ]
        }
      ]
    },
    {
      "cell_type": "markdown",
      "source": [
        "#Selecting and Updating Data\n",
        "Sharpen your NumPy data wrangling skills by slicing, filtering, and sorting New York City’s tree census data. Create new arrays by pulling data based on conditional statements, and add and remove data along any dimension to suit your purpose. Along the way, you’ll learn the shape and dimension compatibility principles to prepare for super-fast array math.\n",
        "\n",
        "##Indexing and slicing arrays\n",
        "###Slicing and indexing trees\n",
        "Imagine you are a researcher working with data from New York City’s tree census. Each row of the `tree_census` 2D array lists information for a different tree: the tree ID, block ID, trunk diameter, and stump diameter in that order. Living trees do not have stump diameters, which explains why there are so many zeros in that column. Column order is important because NumPy does not have column names! The first and last three rows of `tree_census` are shown below."
      ],
      "metadata": {
        "id": "01d7eVl11mIc"
      }
    },
    {
      "cell_type": "code",
      "source": [
        "import pandas as pd\n",
        "tree_census = pd.read_csv(\"https://data.cityofnewyork.us/api/views/uvpi-gqnh/rows.csv?accessType=DOWNLOAD\")"
      ],
      "metadata": {
        "id": "qdIcqcE364JE"
      },
      "execution_count": null,
      "outputs": []
    },
    {
      "cell_type": "code",
      "source": [
        "print(tree_census)"
      ],
      "metadata": {
        "colab": {
          "base_uri": "https://localhost:8080/"
        },
        "id": "ZRUBHLURAhrB",
        "outputId": "5adf6a0d-a99c-42c2-9ec5-48993daacdfd"
      },
      "execution_count": null,
      "outputs": [
        {
          "output_type": "stream",
          "name": "stdout",
          "text": [
            "        tree_id  block_id  created_at  tree_dbh  stump_diam curb_loc status  \\\n",
            "0        180683    348711  08/27/2015         3           0   OnCurb  Alive   \n",
            "1        200540    315986  09/03/2015        21           0   OnCurb  Alive   \n",
            "2        204026    218365  09/05/2015         3           0   OnCurb  Alive   \n",
            "3        204337    217969  09/05/2015        10           0   OnCurb  Alive   \n",
            "4        189565    223043  08/30/2015        21           0   OnCurb  Alive   \n",
            "...         ...       ...         ...       ...         ...      ...    ...   \n",
            "683783   155433    217978  08/18/2015        25           0   OnCurb  Alive   \n",
            "683784   183795    348185  08/29/2015         7           0   OnCurb  Alive   \n",
            "683785   166161    401670  08/22/2015        12           0   OnCurb  Alive   \n",
            "683786   184028    504204  08/29/2015         9           0   OnCurb  Alive   \n",
            "683787   200607    306527  09/03/2015        23           0   OnCurb  Alive   \n",
            "\n",
            "       health                           spc_latin           spc_common  ...  \\\n",
            "0        Fair                         Acer rubrum            red maple  ...   \n",
            "1        Fair                   Quercus palustris              pin oak  ...   \n",
            "2        Good  Gleditsia triacanthos var. inermis          honeylocust  ...   \n",
            "3        Good  Gleditsia triacanthos var. inermis          honeylocust  ...   \n",
            "4        Good                     Tilia americana      American linden  ...   \n",
            "...       ...                                 ...                  ...  ...   \n",
            "683783   Good                   Quercus palustris              pin oak  ...   \n",
            "683784   Good                 Cladrastis kentukea  Kentucky yellowwood  ...   \n",
            "683785   Good                         Acer rubrum            red maple  ...   \n",
            "683786   Good                         Acer rubrum            red maple  ...   \n",
            "683787   Fair                         Acer rubrum            red maple  ...   \n",
            "\n",
            "        boro_ct     state   latitude  longitude          x_sp         y_sp  \\\n",
            "0       4073900  New York  40.723092 -73.844215  1.027431e+06  202756.7687   \n",
            "1       4097300  New York  40.794111 -73.818679  1.034456e+06  228644.8374   \n",
            "2       3044900  New York  40.717581 -73.936608  1.001823e+06  200716.8913   \n",
            "3       3044900  New York  40.713537 -73.934456  1.002420e+06  199244.2531   \n",
            "4       3016500  New York  40.666778 -73.975979  9.909138e+05  182202.4260   \n",
            "...         ...       ...        ...        ...           ...          ...   \n",
            "683783  3051900  New York  40.713211 -73.954944  9.967407e+05  199121.6363   \n",
            "683784  4070700  New York  40.715194 -73.856650  1.023989e+06  199873.6475   \n",
            "683785  5020100  New York  40.620762 -74.136517  9.463514e+05  165466.0763   \n",
            "683786  2023502  New York  40.850828 -73.903115  1.011054e+06  249271.9507   \n",
            "683787  4134100  New York  40.732165 -73.787526  1.043136e+06  206095.5383   \n",
            "\n",
            "       council district census tract        bin           bbl  \n",
            "0                  29.0        739.0  4052307.0  4.022210e+09  \n",
            "1                  19.0        973.0  4101931.0  4.044750e+09  \n",
            "2                  34.0        449.0  3338310.0  3.028870e+09  \n",
            "3                  34.0        449.0  3338342.0  3.029250e+09  \n",
            "4                  39.0        165.0  3025654.0  3.010850e+09  \n",
            "...                 ...          ...        ...           ...  \n",
            "683783             34.0        519.0  3062513.0  3.023690e+09  \n",
            "683784             29.0        707.0  4075448.0  4.031810e+09  \n",
            "683785             50.0        201.0  5011657.0  5.004080e+09  \n",
            "683786             15.0      23502.0  2007757.0  2.028120e+09  \n",
            "683787             24.0       1341.0  4153657.0  4.071360e+09  \n",
            "\n",
            "[683788 rows x 45 columns]\n"
          ]
        }
      ]
    },
    {
      "cell_type": "code",
      "source": [
        "tree_census = pd.DataFrame(tree_census)"
      ],
      "metadata": {
        "id": "ucJ2H1lK7dtE"
      },
      "execution_count": null,
      "outputs": []
    },
    {
      "cell_type": "code",
      "source": [
        "tree_census.head()"
      ],
      "metadata": {
        "id": "teqvdIby80xN",
        "colab": {
          "base_uri": "https://localhost:8080/",
          "height": 206
        },
        "outputId": "2b99992d-51ee-428e-f496-cf82df06cd0f"
      },
      "execution_count": null,
      "outputs": [
        {
          "output_type": "execute_result",
          "data": {
            "text/plain": [
              "   tree_id  block_id  tree_dbh  stump_diam\n",
              "0   180683    348711         3           0\n",
              "1   200540    315986        21           0\n",
              "2   204026    218365         3           0\n",
              "3   204337    217969        10           0\n",
              "4   189565    223043        21           0"
            ],
            "text/html": [
              "\n",
              "  <div id=\"df-28b928d2-1483-4612-9dcf-709edb17dc82\" class=\"colab-df-container\">\n",
              "    <div>\n",
              "<style scoped>\n",
              "    .dataframe tbody tr th:only-of-type {\n",
              "        vertical-align: middle;\n",
              "    }\n",
              "\n",
              "    .dataframe tbody tr th {\n",
              "        vertical-align: top;\n",
              "    }\n",
              "\n",
              "    .dataframe thead th {\n",
              "        text-align: right;\n",
              "    }\n",
              "</style>\n",
              "<table border=\"1\" class=\"dataframe\">\n",
              "  <thead>\n",
              "    <tr style=\"text-align: right;\">\n",
              "      <th></th>\n",
              "      <th>tree_id</th>\n",
              "      <th>block_id</th>\n",
              "      <th>tree_dbh</th>\n",
              "      <th>stump_diam</th>\n",
              "    </tr>\n",
              "  </thead>\n",
              "  <tbody>\n",
              "    <tr>\n",
              "      <th>0</th>\n",
              "      <td>180683</td>\n",
              "      <td>348711</td>\n",
              "      <td>3</td>\n",
              "      <td>0</td>\n",
              "    </tr>\n",
              "    <tr>\n",
              "      <th>1</th>\n",
              "      <td>200540</td>\n",
              "      <td>315986</td>\n",
              "      <td>21</td>\n",
              "      <td>0</td>\n",
              "    </tr>\n",
              "    <tr>\n",
              "      <th>2</th>\n",
              "      <td>204026</td>\n",
              "      <td>218365</td>\n",
              "      <td>3</td>\n",
              "      <td>0</td>\n",
              "    </tr>\n",
              "    <tr>\n",
              "      <th>3</th>\n",
              "      <td>204337</td>\n",
              "      <td>217969</td>\n",
              "      <td>10</td>\n",
              "      <td>0</td>\n",
              "    </tr>\n",
              "    <tr>\n",
              "      <th>4</th>\n",
              "      <td>189565</td>\n",
              "      <td>223043</td>\n",
              "      <td>21</td>\n",
              "      <td>0</td>\n",
              "    </tr>\n",
              "  </tbody>\n",
              "</table>\n",
              "</div>\n",
              "    <div class=\"colab-df-buttons\">\n",
              "\n",
              "  <div class=\"colab-df-container\">\n",
              "    <button class=\"colab-df-convert\" onclick=\"convertToInteractive('df-28b928d2-1483-4612-9dcf-709edb17dc82')\"\n",
              "            title=\"Convert this dataframe to an interactive table.\"\n",
              "            style=\"display:none;\">\n",
              "\n",
              "  <svg xmlns=\"http://www.w3.org/2000/svg\" height=\"24px\" viewBox=\"0 -960 960 960\">\n",
              "    <path d=\"M120-120v-720h720v720H120Zm60-500h600v-160H180v160Zm220 220h160v-160H400v160Zm0 220h160v-160H400v160ZM180-400h160v-160H180v160Zm440 0h160v-160H620v160ZM180-180h160v-160H180v160Zm440 0h160v-160H620v160Z\"/>\n",
              "  </svg>\n",
              "    </button>\n",
              "\n",
              "  <style>\n",
              "    .colab-df-container {\n",
              "      display:flex;\n",
              "      gap: 12px;\n",
              "    }\n",
              "\n",
              "    .colab-df-convert {\n",
              "      background-color: #E8F0FE;\n",
              "      border: none;\n",
              "      border-radius: 50%;\n",
              "      cursor: pointer;\n",
              "      display: none;\n",
              "      fill: #1967D2;\n",
              "      height: 32px;\n",
              "      padding: 0 0 0 0;\n",
              "      width: 32px;\n",
              "    }\n",
              "\n",
              "    .colab-df-convert:hover {\n",
              "      background-color: #E2EBFA;\n",
              "      box-shadow: 0px 1px 2px rgba(60, 64, 67, 0.3), 0px 1px 3px 1px rgba(60, 64, 67, 0.15);\n",
              "      fill: #174EA6;\n",
              "    }\n",
              "\n",
              "    .colab-df-buttons div {\n",
              "      margin-bottom: 4px;\n",
              "    }\n",
              "\n",
              "    [theme=dark] .colab-df-convert {\n",
              "      background-color: #3B4455;\n",
              "      fill: #D2E3FC;\n",
              "    }\n",
              "\n",
              "    [theme=dark] .colab-df-convert:hover {\n",
              "      background-color: #434B5C;\n",
              "      box-shadow: 0px 1px 3px 1px rgba(0, 0, 0, 0.15);\n",
              "      filter: drop-shadow(0px 1px 2px rgba(0, 0, 0, 0.3));\n",
              "      fill: #FFFFFF;\n",
              "    }\n",
              "  </style>\n",
              "\n",
              "    <script>\n",
              "      const buttonEl =\n",
              "        document.querySelector('#df-28b928d2-1483-4612-9dcf-709edb17dc82 button.colab-df-convert');\n",
              "      buttonEl.style.display =\n",
              "        google.colab.kernel.accessAllowed ? 'block' : 'none';\n",
              "\n",
              "      async function convertToInteractive(key) {\n",
              "        const element = document.querySelector('#df-28b928d2-1483-4612-9dcf-709edb17dc82');\n",
              "        const dataTable =\n",
              "          await google.colab.kernel.invokeFunction('convertToInteractive',\n",
              "                                                    [key], {});\n",
              "        if (!dataTable) return;\n",
              "\n",
              "        const docLinkHtml = 'Like what you see? Visit the ' +\n",
              "          '<a target=\"_blank\" href=https://colab.research.google.com/notebooks/data_table.ipynb>data table notebook</a>'\n",
              "          + ' to learn more about interactive tables.';\n",
              "        element.innerHTML = '';\n",
              "        dataTable['output_type'] = 'display_data';\n",
              "        await google.colab.output.renderOutput(dataTable, element);\n",
              "        const docLink = document.createElement('div');\n",
              "        docLink.innerHTML = docLinkHtml;\n",
              "        element.appendChild(docLink);\n",
              "      }\n",
              "    </script>\n",
              "  </div>\n",
              "\n",
              "\n",
              "<div id=\"df-bf26ebf7-0201-49cb-b860-e229a123e10c\">\n",
              "  <button class=\"colab-df-quickchart\" onclick=\"quickchart('df-bf26ebf7-0201-49cb-b860-e229a123e10c')\"\n",
              "            title=\"Suggest charts.\"\n",
              "            style=\"display:none;\">\n",
              "\n",
              "<svg xmlns=\"http://www.w3.org/2000/svg\" height=\"24px\"viewBox=\"0 0 24 24\"\n",
              "     width=\"24px\">\n",
              "    <g>\n",
              "        <path d=\"M19 3H5c-1.1 0-2 .9-2 2v14c0 1.1.9 2 2 2h14c1.1 0 2-.9 2-2V5c0-1.1-.9-2-2-2zM9 17H7v-7h2v7zm4 0h-2V7h2v10zm4 0h-2v-4h2v4z\"/>\n",
              "    </g>\n",
              "</svg>\n",
              "  </button>\n",
              "\n",
              "<style>\n",
              "  .colab-df-quickchart {\n",
              "      --bg-color: #E8F0FE;\n",
              "      --fill-color: #1967D2;\n",
              "      --hover-bg-color: #E2EBFA;\n",
              "      --hover-fill-color: #174EA6;\n",
              "      --disabled-fill-color: #AAA;\n",
              "      --disabled-bg-color: #DDD;\n",
              "  }\n",
              "\n",
              "  [theme=dark] .colab-df-quickchart {\n",
              "      --bg-color: #3B4455;\n",
              "      --fill-color: #D2E3FC;\n",
              "      --hover-bg-color: #434B5C;\n",
              "      --hover-fill-color: #FFFFFF;\n",
              "      --disabled-bg-color: #3B4455;\n",
              "      --disabled-fill-color: #666;\n",
              "  }\n",
              "\n",
              "  .colab-df-quickchart {\n",
              "    background-color: var(--bg-color);\n",
              "    border: none;\n",
              "    border-radius: 50%;\n",
              "    cursor: pointer;\n",
              "    display: none;\n",
              "    fill: var(--fill-color);\n",
              "    height: 32px;\n",
              "    padding: 0;\n",
              "    width: 32px;\n",
              "  }\n",
              "\n",
              "  .colab-df-quickchart:hover {\n",
              "    background-color: var(--hover-bg-color);\n",
              "    box-shadow: 0 1px 2px rgba(60, 64, 67, 0.3), 0 1px 3px 1px rgba(60, 64, 67, 0.15);\n",
              "    fill: var(--button-hover-fill-color);\n",
              "  }\n",
              "\n",
              "  .colab-df-quickchart-complete:disabled,\n",
              "  .colab-df-quickchart-complete:disabled:hover {\n",
              "    background-color: var(--disabled-bg-color);\n",
              "    fill: var(--disabled-fill-color);\n",
              "    box-shadow: none;\n",
              "  }\n",
              "\n",
              "  .colab-df-spinner {\n",
              "    border: 2px solid var(--fill-color);\n",
              "    border-color: transparent;\n",
              "    border-bottom-color: var(--fill-color);\n",
              "    animation:\n",
              "      spin 1s steps(1) infinite;\n",
              "  }\n",
              "\n",
              "  @keyframes spin {\n",
              "    0% {\n",
              "      border-color: transparent;\n",
              "      border-bottom-color: var(--fill-color);\n",
              "      border-left-color: var(--fill-color);\n",
              "    }\n",
              "    20% {\n",
              "      border-color: transparent;\n",
              "      border-left-color: var(--fill-color);\n",
              "      border-top-color: var(--fill-color);\n",
              "    }\n",
              "    30% {\n",
              "      border-color: transparent;\n",
              "      border-left-color: var(--fill-color);\n",
              "      border-top-color: var(--fill-color);\n",
              "      border-right-color: var(--fill-color);\n",
              "    }\n",
              "    40% {\n",
              "      border-color: transparent;\n",
              "      border-right-color: var(--fill-color);\n",
              "      border-top-color: var(--fill-color);\n",
              "    }\n",
              "    60% {\n",
              "      border-color: transparent;\n",
              "      border-right-color: var(--fill-color);\n",
              "    }\n",
              "    80% {\n",
              "      border-color: transparent;\n",
              "      border-right-color: var(--fill-color);\n",
              "      border-bottom-color: var(--fill-color);\n",
              "    }\n",
              "    90% {\n",
              "      border-color: transparent;\n",
              "      border-bottom-color: var(--fill-color);\n",
              "    }\n",
              "  }\n",
              "</style>\n",
              "\n",
              "  <script>\n",
              "    async function quickchart(key) {\n",
              "      const quickchartButtonEl =\n",
              "        document.querySelector('#' + key + ' button');\n",
              "      quickchartButtonEl.disabled = true;  // To prevent multiple clicks.\n",
              "      quickchartButtonEl.classList.add('colab-df-spinner');\n",
              "      try {\n",
              "        const charts = await google.colab.kernel.invokeFunction(\n",
              "            'suggestCharts', [key], {});\n",
              "      } catch (error) {\n",
              "        console.error('Error during call to suggestCharts:', error);\n",
              "      }\n",
              "      quickchartButtonEl.classList.remove('colab-df-spinner');\n",
              "      quickchartButtonEl.classList.add('colab-df-quickchart-complete');\n",
              "    }\n",
              "    (() => {\n",
              "      let quickchartButtonEl =\n",
              "        document.querySelector('#df-bf26ebf7-0201-49cb-b860-e229a123e10c button');\n",
              "      quickchartButtonEl.style.display =\n",
              "        google.colab.kernel.accessAllowed ? 'block' : 'none';\n",
              "    })();\n",
              "  </script>\n",
              "</div>\n",
              "    </div>\n",
              "  </div>\n"
            ]
          },
          "metadata": {},
          "execution_count": 70
        }
      ]
    },
    {
      "cell_type": "code",
      "source": [
        "tree_census = tree_census[[\"tree_id\",\"block_id\",\"tree_dbh\",\"stump_diam\"]]"
      ],
      "metadata": {
        "id": "lsbOCxlD8XKS"
      },
      "execution_count": null,
      "outputs": []
    },
    {
      "cell_type": "code",
      "source": [
        "tree_census.head()"
      ],
      "metadata": {
        "id": "-sPZvWBG8_dH",
        "colab": {
          "base_uri": "https://localhost:8080/",
          "height": 206
        },
        "outputId": "34568406-6011-4a67-a963-a27d1e5186d9"
      },
      "execution_count": null,
      "outputs": [
        {
          "output_type": "execute_result",
          "data": {
            "text/plain": [
              "   tree_id  block_id  tree_dbh  stump_diam\n",
              "0   180683    348711         3           0\n",
              "1   200540    315986        21           0\n",
              "2   204026    218365         3           0\n",
              "3   204337    217969        10           0\n",
              "4   189565    223043        21           0"
            ],
            "text/html": [
              "\n",
              "  <div id=\"df-c30706ff-1ae7-452c-86a2-022ee44f5146\" class=\"colab-df-container\">\n",
              "    <div>\n",
              "<style scoped>\n",
              "    .dataframe tbody tr th:only-of-type {\n",
              "        vertical-align: middle;\n",
              "    }\n",
              "\n",
              "    .dataframe tbody tr th {\n",
              "        vertical-align: top;\n",
              "    }\n",
              "\n",
              "    .dataframe thead th {\n",
              "        text-align: right;\n",
              "    }\n",
              "</style>\n",
              "<table border=\"1\" class=\"dataframe\">\n",
              "  <thead>\n",
              "    <tr style=\"text-align: right;\">\n",
              "      <th></th>\n",
              "      <th>tree_id</th>\n",
              "      <th>block_id</th>\n",
              "      <th>tree_dbh</th>\n",
              "      <th>stump_diam</th>\n",
              "    </tr>\n",
              "  </thead>\n",
              "  <tbody>\n",
              "    <tr>\n",
              "      <th>0</th>\n",
              "      <td>180683</td>\n",
              "      <td>348711</td>\n",
              "      <td>3</td>\n",
              "      <td>0</td>\n",
              "    </tr>\n",
              "    <tr>\n",
              "      <th>1</th>\n",
              "      <td>200540</td>\n",
              "      <td>315986</td>\n",
              "      <td>21</td>\n",
              "      <td>0</td>\n",
              "    </tr>\n",
              "    <tr>\n",
              "      <th>2</th>\n",
              "      <td>204026</td>\n",
              "      <td>218365</td>\n",
              "      <td>3</td>\n",
              "      <td>0</td>\n",
              "    </tr>\n",
              "    <tr>\n",
              "      <th>3</th>\n",
              "      <td>204337</td>\n",
              "      <td>217969</td>\n",
              "      <td>10</td>\n",
              "      <td>0</td>\n",
              "    </tr>\n",
              "    <tr>\n",
              "      <th>4</th>\n",
              "      <td>189565</td>\n",
              "      <td>223043</td>\n",
              "      <td>21</td>\n",
              "      <td>0</td>\n",
              "    </tr>\n",
              "  </tbody>\n",
              "</table>\n",
              "</div>\n",
              "    <div class=\"colab-df-buttons\">\n",
              "\n",
              "  <div class=\"colab-df-container\">\n",
              "    <button class=\"colab-df-convert\" onclick=\"convertToInteractive('df-c30706ff-1ae7-452c-86a2-022ee44f5146')\"\n",
              "            title=\"Convert this dataframe to an interactive table.\"\n",
              "            style=\"display:none;\">\n",
              "\n",
              "  <svg xmlns=\"http://www.w3.org/2000/svg\" height=\"24px\" viewBox=\"0 -960 960 960\">\n",
              "    <path d=\"M120-120v-720h720v720H120Zm60-500h600v-160H180v160Zm220 220h160v-160H400v160Zm0 220h160v-160H400v160ZM180-400h160v-160H180v160Zm440 0h160v-160H620v160ZM180-180h160v-160H180v160Zm440 0h160v-160H620v160Z\"/>\n",
              "  </svg>\n",
              "    </button>\n",
              "\n",
              "  <style>\n",
              "    .colab-df-container {\n",
              "      display:flex;\n",
              "      gap: 12px;\n",
              "    }\n",
              "\n",
              "    .colab-df-convert {\n",
              "      background-color: #E8F0FE;\n",
              "      border: none;\n",
              "      border-radius: 50%;\n",
              "      cursor: pointer;\n",
              "      display: none;\n",
              "      fill: #1967D2;\n",
              "      height: 32px;\n",
              "      padding: 0 0 0 0;\n",
              "      width: 32px;\n",
              "    }\n",
              "\n",
              "    .colab-df-convert:hover {\n",
              "      background-color: #E2EBFA;\n",
              "      box-shadow: 0px 1px 2px rgba(60, 64, 67, 0.3), 0px 1px 3px 1px rgba(60, 64, 67, 0.15);\n",
              "      fill: #174EA6;\n",
              "    }\n",
              "\n",
              "    .colab-df-buttons div {\n",
              "      margin-bottom: 4px;\n",
              "    }\n",
              "\n",
              "    [theme=dark] .colab-df-convert {\n",
              "      background-color: #3B4455;\n",
              "      fill: #D2E3FC;\n",
              "    }\n",
              "\n",
              "    [theme=dark] .colab-df-convert:hover {\n",
              "      background-color: #434B5C;\n",
              "      box-shadow: 0px 1px 3px 1px rgba(0, 0, 0, 0.15);\n",
              "      filter: drop-shadow(0px 1px 2px rgba(0, 0, 0, 0.3));\n",
              "      fill: #FFFFFF;\n",
              "    }\n",
              "  </style>\n",
              "\n",
              "    <script>\n",
              "      const buttonEl =\n",
              "        document.querySelector('#df-c30706ff-1ae7-452c-86a2-022ee44f5146 button.colab-df-convert');\n",
              "      buttonEl.style.display =\n",
              "        google.colab.kernel.accessAllowed ? 'block' : 'none';\n",
              "\n",
              "      async function convertToInteractive(key) {\n",
              "        const element = document.querySelector('#df-c30706ff-1ae7-452c-86a2-022ee44f5146');\n",
              "        const dataTable =\n",
              "          await google.colab.kernel.invokeFunction('convertToInteractive',\n",
              "                                                    [key], {});\n",
              "        if (!dataTable) return;\n",
              "\n",
              "        const docLinkHtml = 'Like what you see? Visit the ' +\n",
              "          '<a target=\"_blank\" href=https://colab.research.google.com/notebooks/data_table.ipynb>data table notebook</a>'\n",
              "          + ' to learn more about interactive tables.';\n",
              "        element.innerHTML = '';\n",
              "        dataTable['output_type'] = 'display_data';\n",
              "        await google.colab.output.renderOutput(dataTable, element);\n",
              "        const docLink = document.createElement('div');\n",
              "        docLink.innerHTML = docLinkHtml;\n",
              "        element.appendChild(docLink);\n",
              "      }\n",
              "    </script>\n",
              "  </div>\n",
              "\n",
              "\n",
              "<div id=\"df-b678222d-7d31-4b25-971e-7f0bd39968c5\">\n",
              "  <button class=\"colab-df-quickchart\" onclick=\"quickchart('df-b678222d-7d31-4b25-971e-7f0bd39968c5')\"\n",
              "            title=\"Suggest charts.\"\n",
              "            style=\"display:none;\">\n",
              "\n",
              "<svg xmlns=\"http://www.w3.org/2000/svg\" height=\"24px\"viewBox=\"0 0 24 24\"\n",
              "     width=\"24px\">\n",
              "    <g>\n",
              "        <path d=\"M19 3H5c-1.1 0-2 .9-2 2v14c0 1.1.9 2 2 2h14c1.1 0 2-.9 2-2V5c0-1.1-.9-2-2-2zM9 17H7v-7h2v7zm4 0h-2V7h2v10zm4 0h-2v-4h2v4z\"/>\n",
              "    </g>\n",
              "</svg>\n",
              "  </button>\n",
              "\n",
              "<style>\n",
              "  .colab-df-quickchart {\n",
              "      --bg-color: #E8F0FE;\n",
              "      --fill-color: #1967D2;\n",
              "      --hover-bg-color: #E2EBFA;\n",
              "      --hover-fill-color: #174EA6;\n",
              "      --disabled-fill-color: #AAA;\n",
              "      --disabled-bg-color: #DDD;\n",
              "  }\n",
              "\n",
              "  [theme=dark] .colab-df-quickchart {\n",
              "      --bg-color: #3B4455;\n",
              "      --fill-color: #D2E3FC;\n",
              "      --hover-bg-color: #434B5C;\n",
              "      --hover-fill-color: #FFFFFF;\n",
              "      --disabled-bg-color: #3B4455;\n",
              "      --disabled-fill-color: #666;\n",
              "  }\n",
              "\n",
              "  .colab-df-quickchart {\n",
              "    background-color: var(--bg-color);\n",
              "    border: none;\n",
              "    border-radius: 50%;\n",
              "    cursor: pointer;\n",
              "    display: none;\n",
              "    fill: var(--fill-color);\n",
              "    height: 32px;\n",
              "    padding: 0;\n",
              "    width: 32px;\n",
              "  }\n",
              "\n",
              "  .colab-df-quickchart:hover {\n",
              "    background-color: var(--hover-bg-color);\n",
              "    box-shadow: 0 1px 2px rgba(60, 64, 67, 0.3), 0 1px 3px 1px rgba(60, 64, 67, 0.15);\n",
              "    fill: var(--button-hover-fill-color);\n",
              "  }\n",
              "\n",
              "  .colab-df-quickchart-complete:disabled,\n",
              "  .colab-df-quickchart-complete:disabled:hover {\n",
              "    background-color: var(--disabled-bg-color);\n",
              "    fill: var(--disabled-fill-color);\n",
              "    box-shadow: none;\n",
              "  }\n",
              "\n",
              "  .colab-df-spinner {\n",
              "    border: 2px solid var(--fill-color);\n",
              "    border-color: transparent;\n",
              "    border-bottom-color: var(--fill-color);\n",
              "    animation:\n",
              "      spin 1s steps(1) infinite;\n",
              "  }\n",
              "\n",
              "  @keyframes spin {\n",
              "    0% {\n",
              "      border-color: transparent;\n",
              "      border-bottom-color: var(--fill-color);\n",
              "      border-left-color: var(--fill-color);\n",
              "    }\n",
              "    20% {\n",
              "      border-color: transparent;\n",
              "      border-left-color: var(--fill-color);\n",
              "      border-top-color: var(--fill-color);\n",
              "    }\n",
              "    30% {\n",
              "      border-color: transparent;\n",
              "      border-left-color: var(--fill-color);\n",
              "      border-top-color: var(--fill-color);\n",
              "      border-right-color: var(--fill-color);\n",
              "    }\n",
              "    40% {\n",
              "      border-color: transparent;\n",
              "      border-right-color: var(--fill-color);\n",
              "      border-top-color: var(--fill-color);\n",
              "    }\n",
              "    60% {\n",
              "      border-color: transparent;\n",
              "      border-right-color: var(--fill-color);\n",
              "    }\n",
              "    80% {\n",
              "      border-color: transparent;\n",
              "      border-right-color: var(--fill-color);\n",
              "      border-bottom-color: var(--fill-color);\n",
              "    }\n",
              "    90% {\n",
              "      border-color: transparent;\n",
              "      border-bottom-color: var(--fill-color);\n",
              "    }\n",
              "  }\n",
              "</style>\n",
              "\n",
              "  <script>\n",
              "    async function quickchart(key) {\n",
              "      const quickchartButtonEl =\n",
              "        document.querySelector('#' + key + ' button');\n",
              "      quickchartButtonEl.disabled = true;  // To prevent multiple clicks.\n",
              "      quickchartButtonEl.classList.add('colab-df-spinner');\n",
              "      try {\n",
              "        const charts = await google.colab.kernel.invokeFunction(\n",
              "            'suggestCharts', [key], {});\n",
              "      } catch (error) {\n",
              "        console.error('Error during call to suggestCharts:', error);\n",
              "      }\n",
              "      quickchartButtonEl.classList.remove('colab-df-spinner');\n",
              "      quickchartButtonEl.classList.add('colab-df-quickchart-complete');\n",
              "    }\n",
              "    (() => {\n",
              "      let quickchartButtonEl =\n",
              "        document.querySelector('#df-b678222d-7d31-4b25-971e-7f0bd39968c5 button');\n",
              "      quickchartButtonEl.style.display =\n",
              "        google.colab.kernel.accessAllowed ? 'block' : 'none';\n",
              "    })();\n",
              "  </script>\n",
              "</div>\n",
              "    </div>\n",
              "  </div>\n"
            ]
          },
          "metadata": {},
          "execution_count": 72
        }
      ]
    },
    {
      "cell_type": "code",
      "source": [
        "tree_census = np.array(tree_census)"
      ],
      "metadata": {
        "id": "_kS9JSAw9ClP"
      },
      "execution_count": null,
      "outputs": []
    },
    {
      "cell_type": "code",
      "source": [
        "print(tree_census)"
      ],
      "metadata": {
        "id": "yIGzO7079HUH",
        "colab": {
          "base_uri": "https://localhost:8080/"
        },
        "outputId": "b445cdc9-0fc6-4e26-ae9e-6af74ecf20c6"
      },
      "execution_count": null,
      "outputs": [
        {
          "output_type": "stream",
          "name": "stdout",
          "text": [
            "[[180683 348711      3      0]\n",
            " [200540 315986     21      0]\n",
            " [204026 218365      3      0]\n",
            " ...\n",
            " [166161 401670     12      0]\n",
            " [184028 504204      9      0]\n",
            " [200607 306527     23      0]]\n"
          ]
        }
      ]
    },
    {
      "cell_type": "markdown",
      "source": [
        "In this exercise, you’ll be working specifically with the second column, representing block IDs: your research requires you to select specific city blocks for further analysis using NumPy slicing and indexing. `numpy` is loaded as `np`, and the `tree_census` 2D array is available."
      ],
      "metadata": {
        "id": "FjOrqD3l9pAR"
      }
    },
    {
      "cell_type": "markdown",
      "source": [
        "Select all rows of data from the second column, representing block IDs; save the resulting array as `block_ids`."
      ],
      "metadata": {
        "id": "1NbIMDye9z1z"
      }
    },
    {
      "cell_type": "code",
      "source": [
        "# Select all rows of block ID data from the second column\n",
        "block_ids = tree_census[:,1]"
      ],
      "metadata": {
        "id": "NcN-0e-_1500"
      },
      "execution_count": null,
      "outputs": []
    },
    {
      "cell_type": "markdown",
      "source": [
        "\n",
        "Print the first five block IDs from `block_ids`."
      ],
      "metadata": {
        "id": "6gWQmuoA95Rq"
      }
    },
    {
      "cell_type": "code",
      "source": [
        "# Print the first five block_ids\n",
        "print(block_ids[0:5])\n",
        "print(block_ids.shape)"
      ],
      "metadata": {
        "id": "i_7aUFi558n1",
        "colab": {
          "base_uri": "https://localhost:8080/"
        },
        "outputId": "8670cfcc-db73-4a8d-a248-ed86b454fe14"
      },
      "execution_count": null,
      "outputs": [
        {
          "output_type": "stream",
          "name": "stdout",
          "text": [
            "[348711 315986 218365 217969 223043]\n",
            "(683788,)\n"
          ]
        }
      ]
    },
    {
      "cell_type": "markdown",
      "source": [
        "Select the tenth block ID from `block_ids`, saving the result as `tenth_block_id`."
      ],
      "metadata": {
        "id": "Me8S-BQO-JCi"
      }
    },
    {
      "cell_type": "code",
      "source": [
        "# Select the tenth block ID from block_ids\n",
        "tenth_block_id = block_ids[9]\n",
        "print(tenth_block_id)"
      ],
      "metadata": {
        "id": "g8jdrbs7-OgB",
        "colab": {
          "base_uri": "https://localhost:8080/"
        },
        "outputId": "f5ecc553-7adc-43d4-d5f3-8f0892d2a91e"
      },
      "execution_count": null,
      "outputs": [
        {
          "output_type": "stream",
          "name": "stdout",
          "text": [
            "207508\n"
          ]
        }
      ]
    },
    {
      "cell_type": "markdown",
      "source": [
        "Select five consecutive block IDs from `block_ids`, starting with the tenth ID, and save as `block_id_slice`"
      ],
      "metadata": {
        "id": "Xb7D5uXR-O8q"
      }
    },
    {
      "cell_type": "code",
      "source": [
        "# Select five block IDs from block_ids starting with the tenth ID\n",
        "block_id_slice = block_ids[9:14]\n",
        "print(block_id_slice)"
      ],
      "metadata": {
        "id": "_4tNzHxx-Sqj",
        "colab": {
          "base_uri": "https://localhost:8080/"
        },
        "outputId": "980abf3f-726c-428e-8803-0521bc5a5818"
      },
      "execution_count": null,
      "outputs": [
        {
          "output_type": "stream",
          "name": "stdout",
          "text": [
            "[207508 302371 302371 415896 219493]\n"
          ]
        }
      ]
    },
    {
      "cell_type": "markdown",
      "source": [
        "###Stepping into 2D\n",
        "Now assume that your research requires you to take an admittedly unrepresentative sample of trunk diameters, which are located in the third column of tree_census. Getting just a selection of trunk diameters can be done with NumPy’s slicing and stepping functionality.\n",
        "\n",
        "\n",
        "numpy is loaded as np, and the tree_census 2D array is available."
      ],
      "metadata": {
        "id": "lU5dyN1r-_la"
      }
    },
    {
      "cell_type": "markdown",
      "source": [
        "Create an array called hundred_diameters which contains the first 100 trunk diameters in tree_census."
      ],
      "metadata": {
        "id": "eTURcxmP_JLz"
      }
    },
    {
      "cell_type": "code",
      "source": [
        "print(tree_census[:5,])"
      ],
      "metadata": {
        "colab": {
          "base_uri": "https://localhost:8080/"
        },
        "id": "Uepe7JXdF4L-",
        "outputId": "59310d3b-3c06-4ace-a009-3148b9503b67"
      },
      "execution_count": null,
      "outputs": [
        {
          "output_type": "stream",
          "name": "stdout",
          "text": [
            "[[180683 348711      3      0]\n",
            " [200540 315986     21      0]\n",
            " [204026 218365      3      0]\n",
            " [204337 217969     10      0]\n",
            " [189565 223043     21      0]]\n"
          ]
        }
      ]
    },
    {
      "cell_type": "code",
      "source": [
        "hundred_diameters = tree_census[0:100, 2]\n",
        "print(hundred_diameters)"
      ],
      "metadata": {
        "id": "Hyo-EECn-9ND",
        "colab": {
          "base_uri": "https://localhost:8080/"
        },
        "outputId": "073dc1b6-affd-44e1-9b34-4807c51f48a7"
      },
      "execution_count": null,
      "outputs": [
        {
          "output_type": "stream",
          "name": "stdout",
          "text": [
            "[ 3 21  3 10 21 11 11  9  6 21 11  8 13 22 30 12  2 14 14 10 11 14  4  9\n",
            "  2  5 33 19  9  9  7  3  7  5  4 12 13  0 12  3 24 20 13 12 36 29  6  9\n",
            " 18 13 13  9 19 17 32 28  7  0 10  5  8 10  6  8  5  5 26 10 18 11 25 15\n",
            " 13  5 26 36 16 13  2  2  4 22 28 42 12  3  3 26  3 26 18 24 32 13 11 22\n",
            " 38 18  2 29]\n"
          ]
        }
      ]
    },
    {
      "cell_type": "markdown",
      "source": [
        "Create an array,every_other_diameter, which contains only trunk diameters for trees with even row indices from 50 to 100, inclusive."
      ],
      "metadata": {
        "id": "im0Al7Hg_MeS"
      }
    },
    {
      "cell_type": "code",
      "source": [
        "every_other_diameter = tree_census[50:101:2, 2]\n",
        "print(every_other_diameter)"
      ],
      "metadata": {
        "id": "_jW56STY_Lwn",
        "colab": {
          "base_uri": "https://localhost:8080/"
        },
        "outputId": "3e6d91a7-9653-4de9-a45a-64aa185f3738"
      },
      "execution_count": null,
      "outputs": [
        {
          "output_type": "stream",
          "name": "stdout",
          "text": [
            "[13 19 32  7 10  8  6  5 26 18 25 13 26 16  2  4 28 12  3  3 18 32 11 38\n",
            "  2 11]\n"
          ]
        }
      ]
    },
    {
      "cell_type": "markdown",
      "source": [
        "Create an array `sorted_trunk_diameters` which select only the trunk diameter and sort in ascending order.\n",
        "\n"
      ],
      "metadata": {
        "id": "UkCuaNjKItAt"
      }
    },
    {
      "cell_type": "code",
      "source": [
        "sorted_trunk_diameters = np.sort(tree_census[:, 2])\n",
        "print(sorted_trunk_diameters)"
      ],
      "metadata": {
        "colab": {
          "base_uri": "https://localhost:8080/"
        },
        "id": "XQ7iKLL7I9ut",
        "outputId": "bfaf4ea8-f6a1-4213-dbf3-e8a12a0a9c56"
      },
      "execution_count": null,
      "outputs": [
        {
          "output_type": "stream",
          "name": "stdout",
          "text": [
            "[  0   0   0 ... 389 425 450]\n"
          ]
        }
      ]
    },
    {
      "cell_type": "code",
      "source": [
        "tree_census[:, 2] == 51"
      ],
      "metadata": {
        "id": "aTHYCCkJJ1PM",
        "outputId": "4abed2ba-2bd2-42dd-c8a5-70a2ea67b4c4",
        "colab": {
          "base_uri": "https://localhost:8080/"
        }
      },
      "execution_count": null,
      "outputs": [
        {
          "output_type": "execute_result",
          "data": {
            "text/plain": [
              "array([False, False, False, ..., False, False, False])"
            ]
          },
          "metadata": {},
          "execution_count": 92
        }
      ]
    },
    {
      "cell_type": "code",
      "source": [
        "tree_census[tree_census[:, 2] == 51]"
      ],
      "metadata": {
        "id": "1vW_gSpFJdv9"
      },
      "execution_count": null,
      "outputs": []
    },
    {
      "cell_type": "code",
      "source": [
        "!git clone https://github.com/datttrian/datacamp"
      ],
      "metadata": {
        "colab": {
          "base_uri": "https://localhost:8080/"
        },
        "id": "gaohOjJgPs7k",
        "outputId": "80a81155-fefd-4032-ec42-7fbb5e259f77"
      },
      "execution_count": null,
      "outputs": [
        {
          "output_type": "stream",
          "name": "stdout",
          "text": [
            "Cloning into 'datacamp'...\n",
            "remote: Enumerating objects: 653, done.\u001b[K\n",
            "remote: Counting objects: 100% (461/461), done.\u001b[K\n",
            "remote: Compressing objects: 100% (245/245), done.\u001b[K\n",
            "remote: Total 653 (delta 218), reused 440 (delta 204), pack-reused 192\u001b[K\n",
            "Receiving objects: 100% (653/653), 41.94 MiB | 16.06 MiB/s, done.\n",
            "Resolving deltas: 100% (242/242), done.\n"
          ]
        }
      ]
    },
    {
      "cell_type": "code",
      "source": [
        "from google.colab import drive\n",
        "drive.mount('/gdrive')\n",
        "!ln -s \"/content/datacamp/introduction-to-numpy\""
      ],
      "metadata": {
        "colab": {
          "base_uri": "https://localhost:8080/"
        },
        "id": "FMf07cerQdR2",
        "outputId": "20c4cc9b-90c5-44a7-e100-b832beb6f91d"
      },
      "execution_count": null,
      "outputs": [
        {
          "output_type": "stream",
          "name": "stdout",
          "text": [
            "Mounted at /gdrive\n"
          ]
        }
      ]
    },
    {
      "cell_type": "code",
      "source": [],
      "metadata": {
        "id": "RISyo-iuRCta"
      },
      "execution_count": null,
      "outputs": []
    }
  ]
}