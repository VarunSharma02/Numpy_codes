{
  "nbformat": 4,
  "nbformat_minor": 0,
  "metadata": {
    "colab": {
      "provenance": [],
      "include_colab_link": true
    },
    "kernelspec": {
      "name": "python3",
      "display_name": "Python 3"
    },
    "language_info": {
      "name": "python"
    }
  },
  "cells": [
    {
      "cell_type": "markdown",
      "metadata": {
        "id": "view-in-github",
        "colab_type": "text"
      },
      "source": [
        "<a href=\"https://colab.research.google.com/github/VarunSharma02/Numpy_codes/blob/main/Numpy.ipynb\" target=\"_parent\"><img src=\"https://colab.research.google.com/assets/colab-badge.svg\" alt=\"Open In Colab\"/></a>"
      ]
    },
    {
      "cell_type": "code",
      "execution_count": null,
      "metadata": {
        "id": "MxolgGPdDux-"
      },
      "outputs": [],
      "source": [
        "import numpy as np"
      ]
    },
    {
      "cell_type": "markdown",
      "source": [
        "#Creating rank-1 arrays"
      ],
      "metadata": {
        "id": "J6CYIyP9D6NF"
      }
    },
    {
      "cell_type": "code",
      "source": [
        "an_array = np.array([3, 33, 333,  3333, 33333])"
      ],
      "metadata": {
        "id": "AqgWiq6KD5fW"
      },
      "execution_count": null,
      "outputs": []
    },
    {
      "cell_type": "code",
      "source": [
        "print(type(an_array))\n",
        "print(an_array)\n",
        "print(an_array.shape)\n",
        "print(an_array[0], an_array[1], an_array[2])"
      ],
      "metadata": {
        "colab": {
          "base_uri": "https://localhost:8080/"
        },
        "id": "yqQwP6QIECpP",
        "outputId": "be895ade-7950-4f38-fbc5-697cab4a322e"
      },
      "execution_count": null,
      "outputs": [
        {
          "output_type": "stream",
          "name": "stdout",
          "text": [
            "<class 'numpy.ndarray'>\n",
            "[    3    33   333  3333 33333]\n",
            "(5,)\n",
            "3 33 333\n"
          ]
        }
      ]
    },
    {
      "cell_type": "code",
      "source": [
        "# array are mutable\n",
        "an_array[0] = 888\n",
        "print(an_array)"
      ],
      "metadata": {
        "colab": {
          "base_uri": "https://localhost:8080/"
        },
        "id": "zpefkQnbEPiR",
        "outputId": "a385cb4d-149f-4874-9615-682a63006974"
      },
      "execution_count": null,
      "outputs": [
        {
          "output_type": "stream",
          "name": "stdout",
          "text": [
            "[  888    33   333  3333 33333]\n"
          ]
        }
      ]
    },
    {
      "cell_type": "code",
      "source": [
        "an_array[0] = \"Hi\"\n",
        "print(an_array)"
      ],
      "metadata": {
        "id": "026LjI_wEUfY",
        "colab": {
          "base_uri": "https://localhost:8080/",
          "height": 164
        },
        "outputId": "ef16260f-8416-4901-c3fb-137139b2242d"
      },
      "execution_count": null,
      "outputs": [
        {
          "output_type": "error",
          "ename": "ValueError",
          "evalue": "invalid literal for int() with base 10: 'Hi'",
          "traceback": [
            "\u001b[0;31m---------------------------------------------------------------------------\u001b[0m",
            "\u001b[0;31mValueError\u001b[0m                                Traceback (most recent call last)",
            "\u001b[0;32m<ipython-input-5-e8d7a9ed333e>\u001b[0m in \u001b[0;36m<cell line: 1>\u001b[0;34m()\u001b[0m\n\u001b[0;32m----> 1\u001b[0;31m \u001b[0man_array\u001b[0m\u001b[0;34m[\u001b[0m\u001b[0;36m0\u001b[0m\u001b[0;34m]\u001b[0m \u001b[0;34m=\u001b[0m \u001b[0;34m\"Hi\"\u001b[0m\u001b[0;34m\u001b[0m\u001b[0;34m\u001b[0m\u001b[0m\n\u001b[0m\u001b[1;32m      2\u001b[0m \u001b[0mprint\u001b[0m\u001b[0;34m(\u001b[0m\u001b[0man_array\u001b[0m\u001b[0;34m)\u001b[0m\u001b[0;34m\u001b[0m\u001b[0;34m\u001b[0m\u001b[0m\n",
            "\u001b[0;31mValueError\u001b[0m: invalid literal for int() with base 10: 'Hi'"
          ]
        }
      ]
    },
    {
      "cell_type": "markdown",
      "source": [
        "#Rank-2 Array"
      ],
      "metadata": {
        "id": "N_oSF4eHG6EZ"
      }
    },
    {
      "cell_type": "code",
      "source": [
        "another = np.array([[11,12,13],[21,22,23]])\n",
        "print(another)\n",
        "print(type(another))\n",
        "print(another.shape)\n",
        "print(another[0,0], another[0,1],another[1,0])"
      ],
      "metadata": {
        "id": "gYydl-BNG4KB",
        "colab": {
          "base_uri": "https://localhost:8080/"
        },
        "outputId": "16877703-0264-4213-d8fc-38b8c9413cc2"
      },
      "execution_count": null,
      "outputs": [
        {
          "output_type": "stream",
          "name": "stdout",
          "text": [
            "[[11 12 13]\n",
            " [21 22 23]]\n",
            "<class 'numpy.ndarray'>\n",
            "(2, 3)\n",
            "11 12 21\n"
          ]
        }
      ]
    },
    {
      "cell_type": "code",
      "source": [
        "a1 = np.array([[1,2,3]])\n",
        "print(a1)\n",
        "print(a1.shape)"
      ],
      "metadata": {
        "id": "d0t2qn9rI186",
        "colab": {
          "base_uri": "https://localhost:8080/"
        },
        "outputId": "300a965a-966d-42eb-af12-28f7bdf3f7ff"
      },
      "execution_count": null,
      "outputs": [
        {
          "output_type": "stream",
          "name": "stdout",
          "text": [
            "[[1 2 3]]\n",
            "(1, 3)\n"
          ]
        }
      ]
    },
    {
      "cell_type": "code",
      "source": [
        "ex1 = np.zeros((2,2))\n",
        "ex1= ex1+1.2\n",
        "print(ex1)\n",
        "print(ex1[0,0])"
      ],
      "metadata": {
        "id": "OYBx-Ip1JLyi",
        "colab": {
          "base_uri": "https://localhost:8080/"
        },
        "outputId": "39748413-5c54-4986-90b1-ca1cf48f3be5"
      },
      "execution_count": null,
      "outputs": [
        {
          "output_type": "stream",
          "name": "stdout",
          "text": [
            "[[1.2 1.2]\n",
            " [1.2 1.2]]\n",
            "1.2\n"
          ]
        }
      ]
    },
    {
      "cell_type": "code",
      "source": [
        "ex2 = np.full((2,2), 9.1)\n",
        "print(ex2)"
      ],
      "metadata": {
        "id": "qaZNoPoXKTCy",
        "colab": {
          "base_uri": "https://localhost:8080/"
        },
        "outputId": "cc8160c1-5098-4768-efe6-345b85cd6d64"
      },
      "execution_count": null,
      "outputs": [
        {
          "output_type": "stream",
          "name": "stdout",
          "text": [
            "[[9.1 9.1]\n",
            " [9.1 9.1]]\n"
          ]
        }
      ]
    },
    {
      "cell_type": "code",
      "source": [
        "ex3 = np.eye(5,5)#.astype(\"int64\")\n",
        "print(ex3)"
      ],
      "metadata": {
        "id": "MSfzHR_GKuNp",
        "colab": {
          "base_uri": "https://localhost:8080/"
        },
        "outputId": "8ea986b5-cd8f-4d91-af33-8a5167b46e7d"
      },
      "execution_count": null,
      "outputs": [
        {
          "output_type": "stream",
          "name": "stdout",
          "text": [
            "[[1. 0. 0. 0. 0.]\n",
            " [0. 1. 0. 0. 0.]\n",
            " [0. 0. 1. 0. 0.]\n",
            " [0. 0. 0. 1. 0.]\n",
            " [0. 0. 0. 0. 1.]]\n"
          ]
        }
      ]
    },
    {
      "cell_type": "code",
      "source": [
        "ex4 = np.ones((1,2))\n",
        "print(ex4)"
      ],
      "metadata": {
        "id": "txC48aEWL53S",
        "colab": {
          "base_uri": "https://localhost:8080/"
        },
        "outputId": "32f26d61-abd4-4adc-f1ac-cb1fe0344d38"
      },
      "execution_count": null,
      "outputs": [
        {
          "output_type": "stream",
          "name": "stdout",
          "text": [
            "[[1. 1.]]\n"
          ]
        }
      ]
    },
    {
      "cell_type": "code",
      "source": [
        "ex5 = np.random.random((2,2))\n",
        "print(ex5)"
      ],
      "metadata": {
        "id": "wtXH6juJMC-K"
      },
      "execution_count": null,
      "outputs": []
    },
    {
      "cell_type": "code",
      "source": [],
      "metadata": {
        "id": "oBLvbofluYo-"
      },
      "execution_count": null,
      "outputs": []
    }
  ]
}